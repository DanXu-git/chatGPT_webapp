{
 "cells": [
  {
   "cell_type": "code",
   "execution_count": null,
   "metadata": {},
   "outputs": [],
   "source": [
    "#| hide\n",
    "from chatgpt_webapp.chatGPT_webapp import *"
   ]
  },
  {
   "cell_type": "markdown",
   "metadata": {},
   "source": [
    "# chatgpt-webapp\n",
    "\n",
    "> Deploy a webapp chatbot of chatGPT with openAI API Key and gradio"
   ]
  },
  {
   "cell_type": "markdown",
   "metadata": {},
   "source": [
    "You may need two things below, for Chinese people I'll list the tutorial at the end:\n",
    "1. An openAI API Key, maybe a VPN to apply one. And set a environment variable named OPENAI_API_KEY to store it.\n",
    "2. A credit card not applied in China sovereign area if big usage is expected."
   ]
  },
  {
   "cell_type": "markdown",
   "metadata": {},
   "source": [
    "## Install"
   ]
  },
  {
   "cell_type": "markdown",
   "metadata": {},
   "source": [
    "```sh\n",
    "pip install openai, gradio, fire\n",
    "\n",
    "git clone  pip install chatgpt_webapp\n",
    "```"
   ]
  },
  {
   "cell_type": "markdown",
   "metadata": {},
   "source": [
    "## How to use"
   ]
  },
  {
   "cell_type": "markdown",
   "metadata": {},
   "source": [
    "```sh\n",
    "chatGPT_webapp.py --help # show usage\n",
    "\n",
    "chatGPT_Webapp.py \\\n",
    "--IP [your server IP, e.g 10.10.10.199] \\\n",
    "--Port 5010[default] \\\n",
    "--model_engine 'gpt-3.5-turbo'[default]\n",
    "```"
   ]
  },
  {
   "cell_type": "markdown",
   "metadata": {},
   "source": [
    "## for Chinese user, 中国用户指引"
   ]
  },
  {
   "cell_type": "markdown",
   "metadata": {},
   "source": [
    "[注册openAI账号教程链接](https://sms-activate.org/cn/info/ChatGPT)\n",
    "\n",
    "申请openAI API Key:  \n",
    ">登陆账号后点击右上角personal个人头像 -> View API keys -> create new secret key,  \n",
    ">复制key创建一个环境变量， export OPENAI_API_KEY=$your_key\n",
    "\n",
    "申请虚拟信用卡: [https://depay.depay.one](https://depay.depay.one/web-app/register-h5?invitCode=536282&lang=en-us)"
   ]
  }
 ],
 "metadata": {
  "kernelspec": {
   "display_name": "Python 3 (ipykernel)",
   "language": "python",
   "name": "python3"
  },
  "language_info": {
   "codemirror_mode": {
    "name": "ipython",
    "version": 3
   },
   "file_extension": ".py",
   "mimetype": "text/x-python",
   "name": "python",
   "nbconvert_exporter": "python",
   "pygments_lexer": "ipython3",
   "version": "3.9.16"
  }
 },
 "nbformat": 4,
 "nbformat_minor": 4
}
